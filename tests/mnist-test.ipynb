{
 "cells": [
  {
   "cell_type": "code",
   "execution_count": 1,
   "metadata": {},
   "outputs": [],
   "source": [
    "from torchvision import datasets, transforms\n",
    "\n",
    "transform=transforms.Compose([\n",
    "        transforms.ToTensor(),\n",
    "        transforms.Normalize((0.1307,), (0.3081,))\n",
    "        ])\n",
    "dataset1 = datasets.MNIST('../data', train=True, download=True,\n",
    "                    transform=transform)\n",
    "dataset2 = datasets.MNIST('../data', train=False,\n",
    "                    transform=transform)"
   ]
  },
  {
   "cell_type": "code",
   "execution_count": 2,
   "metadata": {},
   "outputs": [],
   "source": [
    "import sys\n",
    "import os\n",
    "sys.path.insert(1, os.path.join(os.getcwd(), '..'))\n"
   ]
  },
  {
   "cell_type": "code",
   "execution_count": 3,
   "metadata": {},
   "outputs": [
    {
     "name": "stdout",
     "output_type": "stream",
     "text": [
      "C:\\Users\\heymannn\\Desktop\\components\\ml\\ml-from-scratch\\tests\\..\n"
     ]
    }
   ],
   "source": [
    "import matplotlib.pyplot as plt\n",
    "import math \n",
    "import numpy as np\n",
    "import pytarbs.functions as f\n",
    "from pytarbs.feed_forward.model import *\n",
    "from pytarbs.feed_forward.layer import *\n",
    "#42 is the meaning of the life\n",
    "np.random.seed(42)\n",
    "\n",
    "def hot(x,l):\n",
    "    r=[0]*l\n",
    "    r[x]=1\n",
    "    return np.array(r)\n",
    "\n",
    "def softmax(x):\n",
    "    \"\"\"Compute softmax values for each sets of scores in x.\"\"\"\n",
    "    return np.exp(x) / np.sum(np.exp(x), axis=0)\n"
   ]
  },
  {
   "cell_type": "code",
   "execution_count": 4,
   "metadata": {},
   "outputs": [],
   "source": [
    "model=FeedForward()\\\n",
    "    .add_layer(InputLayer(28*28))\\\n",
    "    .add_layer(DenseLayer(28*28,16,f.LeakyRelu()))\\\n",
    "    .add_layer(DenseLayer(16,16,f.LeakyRelu()))\\\n",
    "    .add_layer(OutputLayer(16, 10, None))\n"
   ]
  },
  {
   "cell_type": "code",
   "execution_count": 5,
   "metadata": {},
   "outputs": [],
   "source": [
    "def predict(x):\n",
    "    preds=softmax(model.forward(x)[0])\n",
    "    return np.argmax(preds)"
   ]
  },
  {
   "cell_type": "code",
   "execution_count": 6,
   "metadata": {},
   "outputs": [],
   "source": [
    "def train():\n",
    "    for i in range(60000):\n",
    "        pred=model.forward([dataset1[i][0].flatten().numpy()])\n",
    "        act= hot(dataset1[i][1],10)\n",
    "        loss=f.SoftMaxLoss().d(pred[0], act)\n",
    "        model.backward(loss)\n",
    "        model.update(lr=0.003)\n"
   ]
  },
  {
   "cell_type": "code",
   "execution_count": 7,
   "metadata": {},
   "outputs": [],
   "source": [
    "#two epochs\n",
    "train()\n",
    "train()"
   ]
  },
  {
   "cell_type": "code",
   "execution_count": 8,
   "metadata": {},
   "outputs": [
    {
     "data": {
      "text/plain": [
       "<matplotlib.image.AxesImage at 0x20becd8e9e8>"
      ]
     },
     "execution_count": 8,
     "metadata": {},
     "output_type": "execute_result"
    },
    {
     "data": {
      "image/png": "[encoded data removed]",
      "text/plain": [
       "<Figure size 432x288 with 1 Axes>"
      ]
     },
     "metadata": {
      "needs_background": "light"
     },
     "output_type": "display_data"
    }
   ],
   "source": [
    "from matplotlib import pyplot as plt\n",
    "\n",
    "plt.imshow(dataset1[5][0].view(28,28))"
   ]
  },
  {
   "cell_type": "code",
   "execution_count": 9,
   "metadata": {},
   "outputs": [
    {
     "data": {
      "text/plain": [
       "torch.Size([784])"
      ]
     },
     "execution_count": 9,
     "metadata": {},
     "output_type": "execute_result"
    }
   ],
   "source": [
    "dataset1[0][0].flatten().shape"
   ]
  },
  {
   "cell_type": "code",
   "execution_count": 10,
   "metadata": {},
   "outputs": [
    {
     "name": "stdout",
     "output_type": "stream",
     "text": [
      "[6.19094184e-09 1.50223681e-09 2.83474400e-06 3.76937250e-07\n",
      " 9.96276203e-01 3.50057447e-07 3.10474272e-06 5.00080998e-07\n",
      " 1.29963816e-05 3.70362631e-03]\n",
      "4\n",
      "4\n"
     ]
    },
    {
     "data": {
      "image/png": "[encoded data removed]",
      "text/plain": [
       "<Figure size 432x288 with 1 Axes>"
      ]
     },
     "metadata": {
      "needs_background": "light"
     },
     "output_type": "display_data"
    }
   ],
   "source": [
    "den=248\n",
    "print(softmax(model.forward([dataset2[den][0].flatten().numpy()])[0]))\n",
    "print(predict(dataset2[den][0].flatten().numpy()))\n",
    "\n",
    "plt.imshow(dataset2[den][0].view(28,28))\n",
    "print(dataset2[den][1])\n"
   ]
  },
  {
   "cell_type": "code",
   "execution_count": 11,
   "metadata": {},
   "outputs": [
    {
     "name": "stdout",
     "output_type": "stream",
     "text": [
      "85.8\n"
     ]
    }
   ],
   "source": [
    "t=0\n",
    "fa=0\n",
    "for i in range(1000):\n",
    "    asd=predict(dataset2[i][0].flatten().numpy())\n",
    "    if asd==dataset2[i][1]: t+=1\n",
    "    else:\n",
    "        fa+=1\n",
    "        \n",
    "print(100*t/(t+fa))"
   ]
  },
  {
   "cell_type": "code",
   "execution_count": null,
   "metadata": {},
   "outputs": [],
   "source": []
  }
 ],
 "metadata": {
  "kernelspec": {
   "display_name": "Python 3",
   "language": "python",
   "name": "python3"
  },
  "language_info": {
   "codemirror_mode": {
    "name": "ipython",
    "version": 3
   },
   "file_extension": ".py",
   "mimetype": "text/x-python",
   "name": "python",
   "nbconvert_exporter": "python",
   "pygments_lexer": "ipython3",
   "version": "3.6.8"
  }
 },
 "nbformat": 4,
 "nbformat_minor": 2
}
